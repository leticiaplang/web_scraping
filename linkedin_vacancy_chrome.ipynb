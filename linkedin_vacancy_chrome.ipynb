{
 "cells": [
  {
   "cell_type": "markdown",
   "id": "f9a4a13d",
   "metadata": {},
   "source": [
    "## Instalações e importações"
   ]
  },
  {
   "cell_type": "code",
   "execution_count": 47,
   "id": "e3c859d3",
   "metadata": {},
   "outputs": [
    {
     "name": "stdout",
     "output_type": "stream",
     "text": [
      "Requirement already satisfied: selenium in /Applications/anaconda3/lib/python3.8/site-packages (3.141.0)\r\n",
      "Requirement already satisfied: urllib3 in /Applications/anaconda3/lib/python3.8/site-packages (from selenium) (1.26.4)\r\n"
     ]
    }
   ],
   "source": [
    "## Instalação Selenium\n",
    "!pip install selenium"
   ]
  },
  {
   "cell_type": "code",
   "execution_count": 48,
   "id": "bcfbe4b2",
   "metadata": {},
   "outputs": [],
   "source": [
    "## import libs\n",
    "import time\n",
    "from selenium import webdriver\n",
    "from selenium.webdriver.chrome.options import Options\n",
    "import pandas as pd"
   ]
  },
  {
   "cell_type": "markdown",
   "id": "6eb2489f",
   "metadata": {},
   "source": [
    "## Definindo Chrome"
   ]
  },
  {
   "cell_type": "code",
   "execution_count": 49,
   "id": "6dd68a4c",
   "metadata": {},
   "outputs": [],
   "source": [
    "## Definição de Janela Desktop\n",
    "chrome_options = Options()\n",
    "chrome_options.add_argument(\"--incognito\")\n",
    "chrome_options.add_argument(\"--window-size=1920x1080\")"
   ]
  },
  {
   "cell_type": "code",
   "execution_count": 50,
   "id": "b84ca8be",
   "metadata": {},
   "outputs": [
    {
     "name": "stderr",
     "output_type": "stream",
     "text": [
      "<ipython-input-50-51c38aefe83d>:6: DeprecationWarning: use options instead of chrome_options\n",
      "  driver = webdriver.Chrome(chrome_options=chrome_options)\n"
     ]
    }
   ],
   "source": [
    "## Necessário realizar download do webdriver em: \n",
    "# https://www.selenium.dev/pt-br/documentation/getting_started/installing_browser_drivers/\n",
    "\n",
    "## Abrir o browser\n",
    "\n",
    "driver = webdriver.Chrome(chrome_options=chrome_options)"
   ]
  },
  {
   "cell_type": "markdown",
   "id": "2b378689",
   "metadata": {},
   "source": [
    "## Abrindo Janela com URL e Definindo Login e Senha\n",
    "\n",
    "Não esquecer de inserir senha"
   ]
  },
  {
   "cell_type": "code",
   "execution_count": 51,
   "id": "dd43141c",
   "metadata": {},
   "outputs": [],
   "source": [
    "## Definindo URL\n",
    "url = \"https://www.linkedin.com/login/pt?fromSignIn=true&trk=guest_homepage-basic_nav-header-signin\"\n",
    "driver.get(url)\n",
    "time.sleep(2)"
   ]
  },
  {
   "cell_type": "code",
   "execution_count": 52,
   "id": "27bd9067",
   "metadata": {},
   "outputs": [],
   "source": [
    "## Dados login\n",
    "login = ''\n",
    "password =''"
   ]
  },
  {
   "cell_type": "markdown",
   "id": "dcf308dd",
   "metadata": {},
   "source": [
    "## Navegando pela URL"
   ]
  },
  {
   "cell_type": "code",
   "execution_count": 53,
   "id": "11f37bf1",
   "metadata": {
    "scrolled": true
   },
   "outputs": [],
   "source": [
    "## Busca pelo botào de login\n",
    "input_search = driver.find_element_by_xpath('/html/body/div/main/div[2]/div[1]/form/div[1]/input')\n",
    "#input_search = driver.find_element_by_class_name('input__label')\n",
    "#input_search = driver.find_element_by_id('first_name')"
   ]
  },
  {
   "cell_type": "code",
   "execution_count": 54,
   "id": "5dafddcf",
   "metadata": {},
   "outputs": [],
   "source": [
    "input_search.send_keys(login)"
   ]
  },
  {
   "cell_type": "code",
   "execution_count": 55,
   "id": "7b105f25",
   "metadata": {},
   "outputs": [],
   "source": [
    "## Busca pelo botão de senha\n",
    "input_search = driver.find_element_by_xpath('/html/body/div/main/div[2]/div[1]/form/div[2]/input')"
   ]
  },
  {
   "cell_type": "code",
   "execution_count": 56,
   "id": "347b6b79",
   "metadata": {},
   "outputs": [],
   "source": [
    "input_search.send_keys(password)"
   ]
  },
  {
   "cell_type": "code",
   "execution_count": 57,
   "id": "743d4aa9",
   "metadata": {},
   "outputs": [],
   "source": [
    "## Busca pelo botão de acesso\n",
    "singin = driver.find_element_by_xpath('/html/body/div/main/div[2]/div[1]/form/div[3]/button')"
   ]
  },
  {
   "cell_type": "code",
   "execution_count": 58,
   "id": "2ca37e34",
   "metadata": {},
   "outputs": [],
   "source": [
    "singin.click()"
   ]
  },
  {
   "cell_type": "code",
   "execution_count": 59,
   "id": "eb557e0e",
   "metadata": {},
   "outputs": [],
   "source": [
    "time.sleep(5)"
   ]
  },
  {
   "cell_type": "code",
   "execution_count": 60,
   "id": "76ee97e4",
   "metadata": {},
   "outputs": [],
   "source": [
    "## Busca pelo botão de minha rede\n",
    "vagas = driver.find_element_by_xpath('/html/body/div[5]/header/div/nav/ul/li[3]/a') "
   ]
  },
  {
   "cell_type": "code",
   "execution_count": 61,
   "id": "8682f7cb",
   "metadata": {},
   "outputs": [],
   "source": [
    "vagas.click()"
   ]
  },
  {
   "cell_type": "code",
   "execution_count": 62,
   "id": "1cd8e71d",
   "metadata": {},
   "outputs": [],
   "source": [
    "time.sleep(2)"
   ]
  },
  {
   "cell_type": "code",
   "execution_count": 75,
   "id": "919b8df0",
   "metadata": {},
   "outputs": [],
   "source": [
    "## Busca pelo botão de conexões\n",
    "pesquisa = driver.find_element_by_class_name('jobs-search-box__text-input')"
   ]
  },
  {
   "cell_type": "code",
   "execution_count": 76,
   "id": "feb5c4e0",
   "metadata": {
    "scrolled": true
   },
   "outputs": [],
   "source": [
    "pesquisa.send_keys('Cientista de dados')"
   ]
  },
  {
   "cell_type": "code",
   "execution_count": 77,
   "id": "0821aa62",
   "metadata": {},
   "outputs": [],
   "source": [
    "local = driver.find_element_by_xpath('/html/body/div[5]/header/div/div/div/div[2]/div[2]/div/div[2]/input[1]')"
   ]
  },
  {
   "cell_type": "code",
   "execution_count": 78,
   "id": "38d6c148",
   "metadata": {},
   "outputs": [],
   "source": [
    "local.send_keys('Brasil')"
   ]
  },
  {
   "cell_type": "code",
   "execution_count": 79,
   "id": "06fa87ea",
   "metadata": {},
   "outputs": [],
   "source": [
    "botao = driver.find_element_by_xpath('/html/body/div[5]/header/div/div/div/div[2]/button[1]')"
   ]
  },
  {
   "cell_type": "code",
   "execution_count": 80,
   "id": "fc35b4b4",
   "metadata": {},
   "outputs": [],
   "source": [
    "botao.click()"
   ]
  },
  {
   "cell_type": "code",
   "execution_count": 65,
   "id": "68ced26d",
   "metadata": {},
   "outputs": [],
   "source": [
    "time.sleep(1)"
   ]
  },
  {
   "cell_type": "markdown",
   "id": "dcb33a6e",
   "metadata": {},
   "source": [
    "## Definindo WebObject e List"
   ]
  },
  {
   "cell_type": "code",
   "execution_count": 81,
   "id": "78ee9971",
   "metadata": {},
   "outputs": [],
   "source": [
    "anuncios = driver.find_element_by_class_name('jobs-search-results')\n",
    "\n",
    "anuncio = driver.find_elements_by_class_name('job-card-container')\n"
   ]
  },
  {
   "cell_type": "markdown",
   "id": "aea13292",
   "metadata": {},
   "source": [
    "## Verificando as saídas "
   ]
  },
  {
   "cell_type": "code",
   "execution_count": 82,
   "id": "ece6da93",
   "metadata": {},
   "outputs": [],
   "source": [
    "vaga = [v.text for v in anuncio]"
   ]
  },
  {
   "cell_type": "code",
   "execution_count": 83,
   "id": "f60b4f76",
   "metadata": {},
   "outputs": [
    {
     "data": {
      "text/plain": [
       "8"
      ]
     },
     "execution_count": 83,
     "metadata": {},
     "output_type": "execute_result"
    }
   ],
   "source": [
    "len(vaga)"
   ]
  },
  {
   "cell_type": "code",
   "execution_count": 84,
   "id": "aea7bebb",
   "metadata": {},
   "outputs": [
    {
     "data": {
      "text/plain": [
       "['Cientista de Dados Sênior\\nEY\\nSão Paulo, São Paulo, Brasil\\nRecrutando agora\\nPromovida\\n5 candidaturas',\n",
       " 'Cientista de dados Pleno | Modelagem de Risco de Crédito\\nPicPay\\nSão Paulo, São Paulo, Brasil\\nRecrutando agora\\nPromovida\\n22 candidaturas',\n",
       " 'Cientista de Dados SR\\nStefanini Brasil\\nBrasil\\nRemoto\\n3 conexões trabalham aqui\\nPromovida\\nCandidatura simplificada',\n",
       " 'Cientista de Dados\\nKroton\\nSão Paulo, São Paulo, Brasil\\nVocê tem um selo de competência preferencial\\nPromovida',\n",
       " 'Atuário / Cientista de Dados\\nGrupo MAG\\nRio de Janeiro, Brasil\\nHíbrido\\nVocê tem um selo de competência preferencial\\nHá 19 horas\\nNas últimas 24 horas\\nCandidatura simplificada',\n",
       " 'Analista de Dados – Agronomia (Cuiabá/MT)\\nCorteva Agriscience\\nSão Paulo, São Paulo, Brasil\\nRecrutando agora\\nHá 7 horas\\nNas últimas 24 horas',\n",
       " 'Cientista de dados\\nLiv Up\\nBrasil\\nRemoto\\nSeu perfil corresponde a esta vaga\\nPromovida',\n",
       " 'Pessoa Cientista de Dados\\nZup Innovation\\nBrasil\\nRemoto\\n1 ex-aluno trabalha aqui\\nPromovida']"
      ]
     },
     "execution_count": 84,
     "metadata": {},
     "output_type": "execute_result"
    }
   ],
   "source": [
    "vaga"
   ]
  },
  {
   "cell_type": "code",
   "execution_count": 85,
   "id": "3e3bcb6c",
   "metadata": {},
   "outputs": [],
   "source": [
    "profissoes = anuncios.find_elements_by_class_name('job-card-list__title')"
   ]
  },
  {
   "cell_type": "code",
   "execution_count": 86,
   "id": "05b4a81b",
   "metadata": {},
   "outputs": [],
   "source": [
    "profissao = [n.text for n in profissoes]"
   ]
  },
  {
   "cell_type": "code",
   "execution_count": 87,
   "id": "0bde35ac",
   "metadata": {},
   "outputs": [
    {
     "data": {
      "text/plain": [
       "['Cientista de Dados Sênior',\n",
       " 'Cientista de dados Pleno | Modelagem de Risco de Crédito',\n",
       " 'Cientista de Dados SR',\n",
       " 'Cientista de Dados',\n",
       " 'Atuário / Cientista de Dados',\n",
       " 'Analista de Dados – Agronomia (Cuiabá/MT)',\n",
       " 'Cientista de dados',\n",
       " 'Pessoa Cientista de Dados']"
      ]
     },
     "execution_count": 87,
     "metadata": {},
     "output_type": "execute_result"
    }
   ],
   "source": [
    "profissao"
   ]
  },
  {
   "cell_type": "code",
   "execution_count": 88,
   "id": "f997bcc4",
   "metadata": {},
   "outputs": [
    {
     "data": {
      "text/plain": [
       "8"
      ]
     },
     "execution_count": 88,
     "metadata": {},
     "output_type": "execute_result"
    }
   ],
   "source": [
    "len(profissao)"
   ]
  },
  {
   "cell_type": "code",
   "execution_count": 89,
   "id": "e626b48b",
   "metadata": {},
   "outputs": [],
   "source": [
    "empresas = anuncios.find_elements_by_class_name('job-card-container__company-name')"
   ]
  },
  {
   "cell_type": "code",
   "execution_count": 90,
   "id": "e8b6171d",
   "metadata": {},
   "outputs": [],
   "source": [
    "empresa = [n.text for n in empresas]"
   ]
  },
  {
   "cell_type": "code",
   "execution_count": 91,
   "id": "7c3ff814",
   "metadata": {},
   "outputs": [
    {
     "data": {
      "text/plain": [
       "['EY',\n",
       " 'PicPay',\n",
       " 'Stefanini Brasil',\n",
       " 'Kroton',\n",
       " 'Grupo MAG',\n",
       " 'Corteva Agriscience',\n",
       " 'Liv Up',\n",
       " 'Zup Innovation']"
      ]
     },
     "execution_count": 91,
     "metadata": {},
     "output_type": "execute_result"
    }
   ],
   "source": [
    "empresa"
   ]
  },
  {
   "cell_type": "code",
   "execution_count": 92,
   "id": "dbd8a3b2",
   "metadata": {},
   "outputs": [
    {
     "data": {
      "text/plain": [
       "8"
      ]
     },
     "execution_count": 92,
     "metadata": {},
     "output_type": "execute_result"
    }
   ],
   "source": [
    "len(empresa)"
   ]
  },
  {
   "cell_type": "code",
   "execution_count": 93,
   "id": "5da90a04",
   "metadata": {},
   "outputs": [],
   "source": [
    "locais = anuncios.find_elements_by_class_name('job-card-container__metadata-wrapper')"
   ]
  },
  {
   "cell_type": "code",
   "execution_count": 94,
   "id": "a71d436e",
   "metadata": {},
   "outputs": [],
   "source": [
    "local = [n.text for n in locais]"
   ]
  },
  {
   "cell_type": "code",
   "execution_count": 95,
   "id": "5bd55c49",
   "metadata": {},
   "outputs": [
    {
     "data": {
      "text/plain": [
       "['São Paulo, São Paulo, Brasil',\n",
       " 'São Paulo, São Paulo, Brasil',\n",
       " 'Brasil\\nRemoto',\n",
       " 'São Paulo, São Paulo, Brasil',\n",
       " 'Rio de Janeiro, Brasil\\nHíbrido',\n",
       " 'São Paulo, São Paulo, Brasil',\n",
       " 'Brasil\\nRemoto',\n",
       " 'Brasil\\nRemoto']"
      ]
     },
     "execution_count": 95,
     "metadata": {},
     "output_type": "execute_result"
    }
   ],
   "source": [
    "local"
   ]
  },
  {
   "cell_type": "code",
   "execution_count": 96,
   "id": "728586c8",
   "metadata": {},
   "outputs": [
    {
     "data": {
      "text/plain": [
       "8"
      ]
     },
     "execution_count": 96,
     "metadata": {},
     "output_type": "execute_result"
    }
   ],
   "source": [
    "len(local)"
   ]
  },
  {
   "cell_type": "code",
   "execution_count": null,
   "id": "e75ca5eb",
   "metadata": {},
   "outputs": [],
   "source": [
    "type(anuncio)"
   ]
  },
  {
   "cell_type": "markdown",
   "id": "ff68c103",
   "metadata": {},
   "source": [
    "## Definindo objetos para iterar na lista e salvar as descricões das Vagas"
   ]
  },
  {
   "cell_type": "code",
   "execution_count": 113,
   "id": "dbfb76d4",
   "metadata": {},
   "outputs": [],
   "source": [
    "vagas = driver.find_element_by_class_name('job-card-container--clickable')\n",
    "\n",
    "vaga = driver.find_elements_by_class_name('job-card-container--clickable')"
   ]
  },
  {
   "cell_type": "code",
   "execution_count": 114,
   "id": "b09cee3c",
   "metadata": {},
   "outputs": [],
   "source": [
    "vagas.click()"
   ]
  },
  {
   "cell_type": "code",
   "execution_count": 115,
   "id": "2eac4b10",
   "metadata": {},
   "outputs": [
    {
     "data": {
      "text/plain": [
       "8"
      ]
     },
     "execution_count": 115,
     "metadata": {},
     "output_type": "execute_result"
    }
   ],
   "source": [
    "len(vaga)"
   ]
  },
  {
   "cell_type": "code",
   "execution_count": 154,
   "id": "09177037",
   "metadata": {},
   "outputs": [],
   "source": [
    "descriptions = []\n",
    "for _ in vaga:\n",
    "    _.click()\n",
    "    v = [v.text for v in _.find_elements_by_xpath('//*[@id=\"job-details\"]')]\n",
    "    descriptions.append(v)"
   ]
  },
  {
   "cell_type": "code",
   "execution_count": 155,
   "id": "9df604b1",
   "metadata": {},
   "outputs": [
    {
     "data": {
      "text/plain": [
       "8"
      ]
     },
     "execution_count": 155,
     "metadata": {},
     "output_type": "execute_result"
    }
   ],
   "source": [
    "len(descriptions)"
   ]
  },
  {
   "cell_type": "raw",
   "id": "bbd4f4a5",
   "metadata": {},
   "source": [
    "driver.quit()  # não fecha a janela do chrome"
   ]
  },
  {
   "cell_type": "markdown",
   "id": "3f5f3ad6",
   "metadata": {},
   "source": [
    "## Definindo dataframe e exportando CSV"
   ]
  },
  {
   "cell_type": "code",
   "execution_count": 156,
   "id": "00130173",
   "metadata": {},
   "outputs": [
    {
     "data": {
      "text/html": [
       "<div>\n",
       "<style scoped>\n",
       "    .dataframe tbody tr th:only-of-type {\n",
       "        vertical-align: middle;\n",
       "    }\n",
       "\n",
       "    .dataframe tbody tr th {\n",
       "        vertical-align: top;\n",
       "    }\n",
       "\n",
       "    .dataframe thead th {\n",
       "        text-align: right;\n",
       "    }\n",
       "</style>\n",
       "<table border=\"1\" class=\"dataframe\">\n",
       "  <thead>\n",
       "    <tr style=\"text-align: right;\">\n",
       "      <th></th>\n",
       "      <th>Profissão</th>\n",
       "      <th>Empresa</th>\n",
       "      <th>Local</th>\n",
       "      <th>Descrição</th>\n",
       "    </tr>\n",
       "  </thead>\n",
       "  <tbody>\n",
       "    <tr>\n",
       "      <th>0</th>\n",
       "      <td>Cientista de Dados Sênior</td>\n",
       "      <td>EY</td>\n",
       "      <td>São Paulo, São Paulo, Brasil</td>\n",
       "      <td>[Na EY, você terá a chance de construir uma ca...</td>\n",
       "    </tr>\n",
       "    <tr>\n",
       "      <th>1</th>\n",
       "      <td>Cientista de dados Pleno | Modelagem de Risco ...</td>\n",
       "      <td>PicPay</td>\n",
       "      <td>São Paulo, São Paulo, Brasil</td>\n",
       "      <td>[JOB DESCRIPTION\\n\\nO Data Scientist | Credit ...</td>\n",
       "    </tr>\n",
       "    <tr>\n",
       "      <th>2</th>\n",
       "      <td>Cientista de Dados SR</td>\n",
       "      <td>Stefanini Brasil</td>\n",
       "      <td>Brasil\\nRemoto</td>\n",
       "      <td>[Atividades:\\n- Atuar em projetos de ciência d...</td>\n",
       "    </tr>\n",
       "    <tr>\n",
       "      <th>3</th>\n",
       "      <td>Cientista de Dados</td>\n",
       "      <td>Kroton</td>\n",
       "      <td>São Paulo, São Paulo, Brasil</td>\n",
       "      <td>[A Kroton tem mais de 50 anos de tradição e é ...</td>\n",
       "    </tr>\n",
       "    <tr>\n",
       "      <th>4</th>\n",
       "      <td>Atuário / Cientista de Dados</td>\n",
       "      <td>Grupo MAG</td>\n",
       "      <td>Rio de Janeiro, Brasil\\nHíbrido</td>\n",
       "      <td>[Se você possui habilidade com programação, qu...</td>\n",
       "    </tr>\n",
       "    <tr>\n",
       "      <th>5</th>\n",
       "      <td>Analista de Dados – Agronomia (Cuiabá/MT)</td>\n",
       "      <td>Corteva Agriscience</td>\n",
       "      <td>São Paulo, São Paulo, Brasil</td>\n",
       "      <td>[Description\\n\\nAtividades core e habilidades:...</td>\n",
       "    </tr>\n",
       "    <tr>\n",
       "      <th>6</th>\n",
       "      <td>Cientista de dados</td>\n",
       "      <td>Liv Up</td>\n",
       "      <td>Brasil\\nRemoto</td>\n",
       "      <td>[Anunciada por\\nJanaina Florentino Dos Santos ...</td>\n",
       "    </tr>\n",
       "    <tr>\n",
       "      <th>7</th>\n",
       "      <td>Pessoa Cientista de Dados</td>\n",
       "      <td>Zup Innovation</td>\n",
       "      <td>Brasil\\nRemoto</td>\n",
       "      <td>[Por que ser zupper?\\n\\nVamos direto ao ponto:...</td>\n",
       "    </tr>\n",
       "  </tbody>\n",
       "</table>\n",
       "</div>"
      ],
      "text/plain": [
       "                                           Profissão              Empresa  \\\n",
       "0                          Cientista de Dados Sênior                   EY   \n",
       "1  Cientista de dados Pleno | Modelagem de Risco ...               PicPay   \n",
       "2                              Cientista de Dados SR     Stefanini Brasil   \n",
       "3                                 Cientista de Dados               Kroton   \n",
       "4                       Atuário / Cientista de Dados            Grupo MAG   \n",
       "5          Analista de Dados – Agronomia (Cuiabá/MT)  Corteva Agriscience   \n",
       "6                                 Cientista de dados               Liv Up   \n",
       "7                          Pessoa Cientista de Dados       Zup Innovation   \n",
       "\n",
       "                             Local  \\\n",
       "0     São Paulo, São Paulo, Brasil   \n",
       "1     São Paulo, São Paulo, Brasil   \n",
       "2                   Brasil\\nRemoto   \n",
       "3     São Paulo, São Paulo, Brasil   \n",
       "4  Rio de Janeiro, Brasil\\nHíbrido   \n",
       "5     São Paulo, São Paulo, Brasil   \n",
       "6                   Brasil\\nRemoto   \n",
       "7                   Brasil\\nRemoto   \n",
       "\n",
       "                                           Descrição  \n",
       "0  [Na EY, você terá a chance de construir uma ca...  \n",
       "1  [JOB DESCRIPTION\\n\\nO Data Scientist | Credit ...  \n",
       "2  [Atividades:\\n- Atuar em projetos de ciência d...  \n",
       "3  [A Kroton tem mais de 50 anos de tradição e é ...  \n",
       "4  [Se você possui habilidade com programação, qu...  \n",
       "5  [Description\\n\\nAtividades core e habilidades:...  \n",
       "6  [Anunciada por\\nJanaina Florentino Dos Santos ...  \n",
       "7  [Por que ser zupper?\\n\\nVamos direto ao ponto:...  "
      ]
     },
     "execution_count": 156,
     "metadata": {},
     "output_type": "execute_result"
    }
   ],
   "source": [
    "csv = pd.DataFrame({'Profissão':profissao, \n",
    "                    'Empresa':empresa, \n",
    "                    'Local':local,\n",
    "                    'Descrição': descriptions})\n",
    "\n",
    "csv"
   ]
  },
  {
   "cell_type": "code",
   "execution_count": null,
   "id": "045836b5",
   "metadata": {},
   "outputs": [],
   "source": [
    "csv.to_csv('vagas.csv')"
   ]
  },
  {
   "cell_type": "code",
   "execution_count": null,
   "id": "6b4e16ce",
   "metadata": {},
   "outputs": [],
   "source": []
  }
 ],
 "metadata": {
  "kernelspec": {
   "display_name": "Python 3",
   "language": "python",
   "name": "python3"
  },
  "language_info": {
   "codemirror_mode": {
    "name": "ipython",
    "version": 3
   },
   "file_extension": ".py",
   "mimetype": "text/x-python",
   "name": "python",
   "nbconvert_exporter": "python",
   "pygments_lexer": "ipython3",
   "version": "3.8.8"
  }
 },
 "nbformat": 4,
 "nbformat_minor": 5
}
