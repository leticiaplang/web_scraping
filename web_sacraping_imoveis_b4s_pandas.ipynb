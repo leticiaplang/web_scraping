{
  "nbformat": 4,
  "nbformat_minor": 0,
  "metadata": {
    "colab": {
      "name": "web_sacraping_imoveis.ipynb",
      "provenance": [],
      "include_colab_link": true
    },
    "kernelspec": {
      "name": "python3",
      "display_name": "Python 3"
    },
    "language_info": {
      "name": "python"
    }
  },
  "cells": [
    {
      "cell_type": "markdown",
      "metadata": {
        "id": "view-in-github",
        "colab_type": "text"
      },
      "source": [
        "<a href=\"https://colab.research.google.com/github/leticiaplang/web_scraping/blob/main/web_sacraping_imoveis_b4s_pandas.ipynb\" target=\"_parent\"><img src=\"https://colab.research.google.com/assets/colab-badge.svg\" alt=\"Open In Colab\"/></a>"
      ]
    },
    {
      "cell_type": "markdown",
      "metadata": {
        "id": "YD_7llHKF9UF"
      },
      "source": [
        "## Instalações e Importações"
      ]
    },
    {
      "cell_type": "code",
      "metadata": {
        "colab": {
          "base_uri": "https://localhost:8080/"
        },
        "id": "45pCOqC4lOV6",
        "outputId": "6196f081-8151-4435-ecfd-d0209f8727b8"
      },
      "source": [
        "!pip install beautifulsoup4"
      ],
      "execution_count": 1,
      "outputs": [
        {
          "output_type": "stream",
          "name": "stdout",
          "text": [
            "Requirement already satisfied: beautifulsoup4 in /usr/local/lib/python3.7/dist-packages (4.6.3)\n"
          ]
        }
      ]
    },
    {
      "cell_type": "code",
      "metadata": {
        "id": "ReoicGL8nIkn"
      },
      "source": [
        "# Imports\n",
        "import requests\n",
        "import numpy as np\n",
        "import pandas as pd\n",
        "from bs4 import BeautifulSoup\n",
        "import regex as re\n",
        "\n",
        "%matplotlib inline"
      ],
      "execution_count": 2,
      "outputs": []
    },
    {
      "cell_type": "markdown",
      "metadata": {
        "id": "-tIw8FYMGFqf"
      },
      "source": [
        "## Definindo a URL e B4S"
      ]
    },
    {
      "cell_type": "code",
      "metadata": {
        "colab": {
          "base_uri": "https://localhost:8080/"
        },
        "id": "dOP262ROpnWt",
        "outputId": "c2b7364e-5bf6-48da-943a-2af0044c3ec3"
      },
      "source": [
        "## Preço Metro² Florianópolis\n",
        "url = 'https://www.agenteimovel.com.br/mercado-imobiliario/a-venda/sc/florianopolis/'\n",
        "\n",
        "# Usaremos o request para realizar a requisição\n",
        "house_response = requests.get(url)\n",
        "\n",
        "# Conversão da resposta para HTML Usando Beautiful Soup\n",
        "house_soup = BeautifulSoup(house_response.text, 'html.parser')\n",
        "\n",
        "# Titulo da Página\n",
        "house_soup.title"
      ],
      "execution_count": 3,
      "outputs": [
        {
          "output_type": "execute_result",
          "data": {
            "text/plain": [
              "<title>Preços &amp; Valores de Imóveis à Venda do M2 em Florianópolis SC | Agente Imóvel</title>"
            ]
          },
          "metadata": {},
          "execution_count": 3
        }
      ]
    },
    {
      "cell_type": "markdown",
      "metadata": {
        "id": "DfX-GqlZXBDV"
      },
      "source": [
        "## Valores por tipo de imóvel"
      ]
    },
    {
      "cell_type": "code",
      "metadata": {
        "id": "HNmZFPTFrJLX"
      },
      "source": [
        "tables_house = house_soup.find('table')"
      ],
      "execution_count": 4,
      "outputs": []
    },
    {
      "cell_type": "code",
      "metadata": {
        "colab": {
          "base_uri": "https://localhost:8080/"
        },
        "id": "OtX5mHGaJNAA",
        "outputId": "94f9817f-84bd-413b-b064-d638bd945b53"
      },
      "source": [
        "tables_house"
      ],
      "execution_count": 5,
      "outputs": [
        {
          "output_type": "execute_result",
          "data": {
            "text/plain": [
              "<table class=\"dados\">\n",
              "<tr>\n",
              "<th>N° quartos</th>\n",
              "<th>N° de imóveis</th>\n",
              "<th>Aug'2021</th>\n",
              "<th>Anual</th>\n",
              "<th>1 mês antes</th>\n",
              "<th>3 meses antes</th>\n",
              "<th>1 ano antes</th>\n",
              "</tr>\n",
              "<tr>\n",
              "<td>\n",
              "                                                                1\n",
              "                                                            </td>\n",
              "<td>2.935</td>\n",
              "<td>R$ 8.598</td>\n",
              "<td class=\"green\">+17.42%</td>\n",
              "<td>R$ 8.461</td>\n",
              "<td>R$ 8.318</td>\n",
              "<td>R$ 7.322</td>\n",
              "</tr>\n",
              "<tr>\n",
              "<td>\n",
              "                                                                2\n",
              "                                                            </td>\n",
              "<td>13.964</td>\n",
              "<td>R$ 7.304</td>\n",
              "<td class=\"green\">+19.55%</td>\n",
              "<td>R$ 7.171</td>\n",
              "<td>R$ 7.058</td>\n",
              "<td>R$ 6.110</td>\n",
              "</tr>\n",
              "<tr>\n",
              "<td>\n",
              "                                                                3\n",
              "                                                            </td>\n",
              "<td>18.809</td>\n",
              "<td>R$ 7.835</td>\n",
              "<td class=\"green\">+17.59%</td>\n",
              "<td>R$ 7.734</td>\n",
              "<td>R$ 7.614</td>\n",
              "<td>R$ 6.663</td>\n",
              "</tr>\n",
              "<tr>\n",
              "<td>\n",
              "                                                                4\n",
              "                                                            </td>\n",
              "<td>5.830</td>\n",
              "<td>R$ 7.906</td>\n",
              "<td class=\"green\">+14.75%</td>\n",
              "<td>R$ 7.840</td>\n",
              "<td>R$ 7.742</td>\n",
              "<td>R$ 6.890</td>\n",
              "</tr>\n",
              "<tr>\n",
              "<td>\n",
              "                                                                4+\n",
              "                                                            </td>\n",
              "<td>2.712</td>\n",
              "<td>R$ 7.335</td>\n",
              "<td class=\"green\">+12.07%</td>\n",
              "<td>R$ 7.278</td>\n",
              "<td>R$ 7.223</td>\n",
              "<td>R$ 6.545</td>\n",
              "</tr>\n",
              "<tr class=\"total\">\n",
              "<td>Total <i class=\"fa fa-question-circle\" data-placement=\"top\" data-toggle=\"tooltip\" title=\"A tabela mostra apenas as configurações de quartos com um tamanho de amostra estatisticamente relevante\"></i></td>\n",
              "<td>44.301</td>\n",
              "<td>R$ 7.697</td>\n",
              "<td class=\"green\">+17.60%</td>\n",
              "<td>R$ 7.591</td>\n",
              "<td>R$ 7.480</td>\n",
              "<td>R$ 6.545</td>\n",
              "</tr>\n",
              "</table>"
            ]
          },
          "metadata": {},
          "execution_count": 5
        }
      ]
    },
    {
      "cell_type": "code",
      "metadata": {
        "id": "mKa2I8ebtwye"
      },
      "source": [
        "## Aqui Temos todas as linhas das Tabelas\n",
        "linhas = tables_house.findAll()"
      ],
      "execution_count": 6,
      "outputs": []
    },
    {
      "cell_type": "code",
      "metadata": {
        "colab": {
          "base_uri": "https://localhost:8080/"
        },
        "id": "AbGvisGyNr92",
        "outputId": "0cacd4bd-5655-42a3-ded6-8a1b17bc5da8"
      },
      "source": [
        "linhas"
      ],
      "execution_count": 7,
      "outputs": [
        {
          "output_type": "execute_result",
          "data": {
            "text/plain": [
              "[<tr>\n",
              " <th>N° quartos</th>\n",
              " <th>N° de imóveis</th>\n",
              " <th>Aug'2021</th>\n",
              " <th>Anual</th>\n",
              " <th>1 mês antes</th>\n",
              " <th>3 meses antes</th>\n",
              " <th>1 ano antes</th>\n",
              " </tr>,\n",
              " <th>N° quartos</th>,\n",
              " <th>N° de imóveis</th>,\n",
              " <th>Aug'2021</th>,\n",
              " <th>Anual</th>,\n",
              " <th>1 mês antes</th>,\n",
              " <th>3 meses antes</th>,\n",
              " <th>1 ano antes</th>,\n",
              " <tr>\n",
              " <td>\n",
              "                                                                 1\n",
              "                                                             </td>\n",
              " <td>2.935</td>\n",
              " <td>R$ 8.598</td>\n",
              " <td class=\"green\">+17.42%</td>\n",
              " <td>R$ 8.461</td>\n",
              " <td>R$ 8.318</td>\n",
              " <td>R$ 7.322</td>\n",
              " </tr>,\n",
              " <td>\n",
              "                                                                 1\n",
              "                                                             </td>,\n",
              " <td>2.935</td>,\n",
              " <td>R$ 8.598</td>,\n",
              " <td class=\"green\">+17.42%</td>,\n",
              " <td>R$ 8.461</td>,\n",
              " <td>R$ 8.318</td>,\n",
              " <td>R$ 7.322</td>,\n",
              " <tr>\n",
              " <td>\n",
              "                                                                 2\n",
              "                                                             </td>\n",
              " <td>13.964</td>\n",
              " <td>R$ 7.304</td>\n",
              " <td class=\"green\">+19.55%</td>\n",
              " <td>R$ 7.171</td>\n",
              " <td>R$ 7.058</td>\n",
              " <td>R$ 6.110</td>\n",
              " </tr>,\n",
              " <td>\n",
              "                                                                 2\n",
              "                                                             </td>,\n",
              " <td>13.964</td>,\n",
              " <td>R$ 7.304</td>,\n",
              " <td class=\"green\">+19.55%</td>,\n",
              " <td>R$ 7.171</td>,\n",
              " <td>R$ 7.058</td>,\n",
              " <td>R$ 6.110</td>,\n",
              " <tr>\n",
              " <td>\n",
              "                                                                 3\n",
              "                                                             </td>\n",
              " <td>18.809</td>\n",
              " <td>R$ 7.835</td>\n",
              " <td class=\"green\">+17.59%</td>\n",
              " <td>R$ 7.734</td>\n",
              " <td>R$ 7.614</td>\n",
              " <td>R$ 6.663</td>\n",
              " </tr>,\n",
              " <td>\n",
              "                                                                 3\n",
              "                                                             </td>,\n",
              " <td>18.809</td>,\n",
              " <td>R$ 7.835</td>,\n",
              " <td class=\"green\">+17.59%</td>,\n",
              " <td>R$ 7.734</td>,\n",
              " <td>R$ 7.614</td>,\n",
              " <td>R$ 6.663</td>,\n",
              " <tr>\n",
              " <td>\n",
              "                                                                 4\n",
              "                                                             </td>\n",
              " <td>5.830</td>\n",
              " <td>R$ 7.906</td>\n",
              " <td class=\"green\">+14.75%</td>\n",
              " <td>R$ 7.840</td>\n",
              " <td>R$ 7.742</td>\n",
              " <td>R$ 6.890</td>\n",
              " </tr>,\n",
              " <td>\n",
              "                                                                 4\n",
              "                                                             </td>,\n",
              " <td>5.830</td>,\n",
              " <td>R$ 7.906</td>,\n",
              " <td class=\"green\">+14.75%</td>,\n",
              " <td>R$ 7.840</td>,\n",
              " <td>R$ 7.742</td>,\n",
              " <td>R$ 6.890</td>,\n",
              " <tr>\n",
              " <td>\n",
              "                                                                 4+\n",
              "                                                             </td>\n",
              " <td>2.712</td>\n",
              " <td>R$ 7.335</td>\n",
              " <td class=\"green\">+12.07%</td>\n",
              " <td>R$ 7.278</td>\n",
              " <td>R$ 7.223</td>\n",
              " <td>R$ 6.545</td>\n",
              " </tr>,\n",
              " <td>\n",
              "                                                                 4+\n",
              "                                                             </td>,\n",
              " <td>2.712</td>,\n",
              " <td>R$ 7.335</td>,\n",
              " <td class=\"green\">+12.07%</td>,\n",
              " <td>R$ 7.278</td>,\n",
              " <td>R$ 7.223</td>,\n",
              " <td>R$ 6.545</td>,\n",
              " <tr class=\"total\">\n",
              " <td>Total <i class=\"fa fa-question-circle\" data-placement=\"top\" data-toggle=\"tooltip\" title=\"A tabela mostra apenas as configurações de quartos com um tamanho de amostra estatisticamente relevante\"></i></td>\n",
              " <td>44.301</td>\n",
              " <td>R$ 7.697</td>\n",
              " <td class=\"green\">+17.60%</td>\n",
              " <td>R$ 7.591</td>\n",
              " <td>R$ 7.480</td>\n",
              " <td>R$ 6.545</td>\n",
              " </tr>,\n",
              " <td>Total <i class=\"fa fa-question-circle\" data-placement=\"top\" data-toggle=\"tooltip\" title=\"A tabela mostra apenas as configurações de quartos com um tamanho de amostra estatisticamente relevante\"></i></td>,\n",
              " <i class=\"fa fa-question-circle\" data-placement=\"top\" data-toggle=\"tooltip\" title=\"A tabela mostra apenas as configurações de quartos com um tamanho de amostra estatisticamente relevante\"></i>,\n",
              " <td>44.301</td>,\n",
              " <td>R$ 7.697</td>,\n",
              " <td class=\"green\">+17.60%</td>,\n",
              " <td>R$ 7.591</td>,\n",
              " <td>R$ 7.480</td>,\n",
              " <td>R$ 6.545</td>]"
            ]
          },
          "metadata": {},
          "execution_count": 7
        }
      ]
    },
    {
      "cell_type": "code",
      "metadata": {
        "colab": {
          "base_uri": "https://localhost:8080/"
        },
        "id": "4ZERjRUIPo-7",
        "outputId": "e10ce05b-5c3a-468f-bdef-63241eab0982"
      },
      "source": [
        "cabecalho = tables_house.findAll('th')\n",
        "cabecalho"
      ],
      "execution_count": 8,
      "outputs": [
        {
          "output_type": "execute_result",
          "data": {
            "text/plain": [
              "[<th>N° quartos</th>,\n",
              " <th>N° de imóveis</th>,\n",
              " <th>Aug'2021</th>,\n",
              " <th>Anual</th>,\n",
              " <th>1 mês antes</th>,\n",
              " <th>3 meses antes</th>,\n",
              " <th>1 ano antes</th>]"
            ]
          },
          "metadata": {},
          "execution_count": 8
        }
      ]
    },
    {
      "cell_type": "code",
      "metadata": {
        "colab": {
          "base_uri": "https://localhost:8080/"
        },
        "id": "Wu7nNfbeP6kO",
        "outputId": "95b94d64-7d8f-497c-c719-7a57fb2eaf62"
      },
      "source": [
        "valores = tables_house.findAll('td')\n",
        "valores"
      ],
      "execution_count": 9,
      "outputs": [
        {
          "output_type": "execute_result",
          "data": {
            "text/plain": [
              "[<td>\n",
              "                                                                 1\n",
              "                                                             </td>,\n",
              " <td>2.935</td>,\n",
              " <td>R$ 8.598</td>,\n",
              " <td class=\"green\">+17.42%</td>,\n",
              " <td>R$ 8.461</td>,\n",
              " <td>R$ 8.318</td>,\n",
              " <td>R$ 7.322</td>,\n",
              " <td>\n",
              "                                                                 2\n",
              "                                                             </td>,\n",
              " <td>13.964</td>,\n",
              " <td>R$ 7.304</td>,\n",
              " <td class=\"green\">+19.55%</td>,\n",
              " <td>R$ 7.171</td>,\n",
              " <td>R$ 7.058</td>,\n",
              " <td>R$ 6.110</td>,\n",
              " <td>\n",
              "                                                                 3\n",
              "                                                             </td>,\n",
              " <td>18.809</td>,\n",
              " <td>R$ 7.835</td>,\n",
              " <td class=\"green\">+17.59%</td>,\n",
              " <td>R$ 7.734</td>,\n",
              " <td>R$ 7.614</td>,\n",
              " <td>R$ 6.663</td>,\n",
              " <td>\n",
              "                                                                 4\n",
              "                                                             </td>,\n",
              " <td>5.830</td>,\n",
              " <td>R$ 7.906</td>,\n",
              " <td class=\"green\">+14.75%</td>,\n",
              " <td>R$ 7.840</td>,\n",
              " <td>R$ 7.742</td>,\n",
              " <td>R$ 6.890</td>,\n",
              " <td>\n",
              "                                                                 4+\n",
              "                                                             </td>,\n",
              " <td>2.712</td>,\n",
              " <td>R$ 7.335</td>,\n",
              " <td class=\"green\">+12.07%</td>,\n",
              " <td>R$ 7.278</td>,\n",
              " <td>R$ 7.223</td>,\n",
              " <td>R$ 6.545</td>,\n",
              " <td>Total <i class=\"fa fa-question-circle\" data-placement=\"top\" data-toggle=\"tooltip\" title=\"A tabela mostra apenas as configurações de quartos com um tamanho de amostra estatisticamente relevante\"></i></td>,\n",
              " <td>44.301</td>,\n",
              " <td>R$ 7.697</td>,\n",
              " <td class=\"green\">+17.60%</td>,\n",
              " <td>R$ 7.591</td>,\n",
              " <td>R$ 7.480</td>,\n",
              " <td>R$ 6.545</td>]"
            ]
          },
          "metadata": {},
          "execution_count": 9
        }
      ]
    },
    {
      "cell_type": "markdown",
      "metadata": {
        "id": "xyqFIB2vv0su"
      },
      "source": [
        "### Data cleaning"
      ]
    },
    {
      "cell_type": "code",
      "metadata": {
        "colab": {
          "base_uri": "https://localhost:8080/"
        },
        "id": "n2Nhqsf7Mgnu",
        "outputId": "af7b70d5-ee98-4166-a287-7b8129e1fffd"
      },
      "source": [
        "n_quartos = [valores[0], valores[7], valores[14], valores[21], valores[28]]\n",
        "\n",
        "n_quartos = [re.sub('[^0-9]', '', str(n)) for n in n_quartos] # excluí o +\n",
        "\n",
        "n_quartos.append('total')\n",
        "\n",
        "n_quartos[4] = '4+'\n",
        "\n",
        "n_quartos"
      ],
      "execution_count": 10,
      "outputs": [
        {
          "output_type": "execute_result",
          "data": {
            "text/plain": [
              "['1', '2', '3', '4', '4+', 'total']"
            ]
          },
          "metadata": {},
          "execution_count": 10
        }
      ]
    },
    {
      "cell_type": "code",
      "metadata": {
        "colab": {
          "base_uri": "https://localhost:8080/"
        },
        "id": "zM3_Rs9qMgqA",
        "outputId": "5c039f9f-70b5-49ac-ba53-1057d3b5c50d"
      },
      "source": [
        "n_imoveis = [valores[1],valores[8],valores[15],valores[22],valores[29],valores[36]]\n",
        "n_imoveis = [re.sub('[^0-9]', '', str(n)) for n in n_imoveis]\n",
        "n_imoveis "
      ],
      "execution_count": 11,
      "outputs": [
        {
          "output_type": "execute_result",
          "data": {
            "text/plain": [
              "['2935', '13964', '18809', '5830', '2712', '44301']"
            ]
          },
          "metadata": {},
          "execution_count": 11
        }
      ]
    },
    {
      "cell_type": "code",
      "metadata": {
        "colab": {
          "base_uri": "https://localhost:8080/"
        },
        "id": "pq83Fh5CMgsy",
        "outputId": "e5a87229-1000-4179-f24e-4a42dd4341ad"
      },
      "source": [
        "aug2021 = [valores[2],valores[9],valores[16],valores[23],valores[30],valores[37]]\n",
        "aug2021 = [re.sub('[^0-9]', '', str(n)) for n in aug2021]\n",
        "aug2021"
      ],
      "execution_count": 13,
      "outputs": [
        {
          "output_type": "execute_result",
          "data": {
            "text/plain": [
              "['8598', '7304', '7835', '7906', '7335', '7697']"
            ]
          },
          "metadata": {},
          "execution_count": 13
        }
      ]
    },
    {
      "cell_type": "code",
      "metadata": {
        "id": "u-VtZ9SOMgvk"
      },
      "source": [
        "# class = [valores[3],valores[10],valores[17],valores[24],valores[31],valores[38]]\n"
      ],
      "execution_count": null,
      "outputs": []
    },
    {
      "cell_type": "code",
      "metadata": {
        "colab": {
          "base_uri": "https://localhost:8080/"
        },
        "id": "8UVzBAh7N1Yi",
        "outputId": "f71521be-c7e7-4279-a175-64523b8dc09c"
      },
      "source": [
        "mes_antes = [valores[4],valores[11],valores[18],valores[25],valores[32],valores[39]]\n",
        "mes_antes = [re.sub('[^0-9]', '', str(n)) for n in mes_antes]\n",
        "mes_antes"
      ],
      "execution_count": 14,
      "outputs": [
        {
          "output_type": "execute_result",
          "data": {
            "text/plain": [
              "['8461', '7171', '7734', '7840', '7278', '7591']"
            ]
          },
          "metadata": {},
          "execution_count": 14
        }
      ]
    },
    {
      "cell_type": "code",
      "metadata": {
        "id": "zL8B4JISN1bM"
      },
      "source": [
        "tres_meses_antes = [valores[5],valores[12],valores[19],valores[26],valores[33],valores[40]]\n",
        "tres_meses_antes = [re.sub('[^0-9]', '', str(n)) for n in tres_meses_antes]"
      ],
      "execution_count": 15,
      "outputs": []
    },
    {
      "cell_type": "code",
      "metadata": {
        "colab": {
          "base_uri": "https://localhost:8080/"
        },
        "id": "6EirUnykN1d0",
        "outputId": "3eb98830-7303-4579-dc6b-c7d4f9e37c82"
      },
      "source": [
        "um_ano_antes = [valores[6],valores[13],valores[20],valores[27],valores[34],valores[41]]\n",
        "um_ano_antes = [re.sub('[^0-9]', '', str(n)) for n in um_ano_antes]\n",
        "um_ano_antes"
      ],
      "execution_count": 16,
      "outputs": [
        {
          "output_type": "execute_result",
          "data": {
            "text/plain": [
              "['7322', '6110', '6663', '6890', '6545', '6545']"
            ]
          },
          "metadata": {},
          "execution_count": 16
        }
      ]
    },
    {
      "cell_type": "code",
      "metadata": {
        "colab": {
          "base_uri": "https://localhost:8080/",
          "height": 252
        },
        "id": "6TNJis70J0WJ",
        "outputId": "c7c908c5-1ed3-4566-f78e-3cfc3f950df8"
      },
      "source": [
        "df = pd.DataFrame({'n_quartos': n_quartos, 'n_imoveis': n_imoveis, 'aug2021': aug2021, 'mes_antes': mes_antes, 'tres_meses_antes': tres_meses_antes, 'um_ano_antes':um_ano_antes})\n",
        "df\n"
      ],
      "execution_count": 17,
      "outputs": [
        {
          "output_type": "execute_result",
          "data": {
            "text/html": [
              "<div>\n",
              "<style scoped>\n",
              "    .dataframe tbody tr th:only-of-type {\n",
              "        vertical-align: middle;\n",
              "    }\n",
              "\n",
              "    .dataframe tbody tr th {\n",
              "        vertical-align: top;\n",
              "    }\n",
              "\n",
              "    .dataframe thead th {\n",
              "        text-align: right;\n",
              "    }\n",
              "</style>\n",
              "<table border=\"1\" class=\"dataframe\">\n",
              "  <thead>\n",
              "    <tr style=\"text-align: right;\">\n",
              "      <th></th>\n",
              "      <th>n_quartos</th>\n",
              "      <th>n_imoveis</th>\n",
              "      <th>aug2021</th>\n",
              "      <th>mes_antes</th>\n",
              "      <th>tres_meses_antes</th>\n",
              "      <th>um_ano_antes</th>\n",
              "    </tr>\n",
              "  </thead>\n",
              "  <tbody>\n",
              "    <tr>\n",
              "      <th>0</th>\n",
              "      <td>1</td>\n",
              "      <td>2935</td>\n",
              "      <td>8598</td>\n",
              "      <td>8461</td>\n",
              "      <td>8318</td>\n",
              "      <td>7322</td>\n",
              "    </tr>\n",
              "    <tr>\n",
              "      <th>1</th>\n",
              "      <td>2</td>\n",
              "      <td>13964</td>\n",
              "      <td>7304</td>\n",
              "      <td>7171</td>\n",
              "      <td>7058</td>\n",
              "      <td>6110</td>\n",
              "    </tr>\n",
              "    <tr>\n",
              "      <th>2</th>\n",
              "      <td>3</td>\n",
              "      <td>18809</td>\n",
              "      <td>7835</td>\n",
              "      <td>7734</td>\n",
              "      <td>7614</td>\n",
              "      <td>6663</td>\n",
              "    </tr>\n",
              "    <tr>\n",
              "      <th>3</th>\n",
              "      <td>4</td>\n",
              "      <td>5830</td>\n",
              "      <td>7906</td>\n",
              "      <td>7840</td>\n",
              "      <td>7742</td>\n",
              "      <td>6890</td>\n",
              "    </tr>\n",
              "    <tr>\n",
              "      <th>4</th>\n",
              "      <td>4+</td>\n",
              "      <td>2712</td>\n",
              "      <td>7335</td>\n",
              "      <td>7278</td>\n",
              "      <td>7223</td>\n",
              "      <td>6545</td>\n",
              "    </tr>\n",
              "    <tr>\n",
              "      <th>5</th>\n",
              "      <td>total</td>\n",
              "      <td>44301</td>\n",
              "      <td>7697</td>\n",
              "      <td>7591</td>\n",
              "      <td>7480</td>\n",
              "      <td>6545</td>\n",
              "    </tr>\n",
              "  </tbody>\n",
              "</table>\n",
              "</div>"
            ],
            "text/plain": [
              "  n_quartos n_imoveis aug2021 mes_antes tres_meses_antes um_ano_antes\n",
              "0         1      2935    8598      8461             8318         7322\n",
              "1         2     13964    7304      7171             7058         6110\n",
              "2         3     18809    7835      7734             7614         6663\n",
              "3         4      5830    7906      7840             7742         6890\n",
              "4        4+      2712    7335      7278             7223         6545\n",
              "5     total     44301    7697      7591             7480         6545"
            ]
          },
          "metadata": {},
          "execution_count": 17
        }
      ]
    },
    {
      "cell_type": "markdown",
      "metadata": {
        "id": "K98Qpm97XNS7"
      },
      "source": [
        "## Tabelas com Pandas"
      ]
    },
    {
      "cell_type": "code",
      "metadata": {
        "colab": {
          "base_uri": "https://localhost:8080/"
        },
        "id": "S-C1izpHXOzt",
        "outputId": "228585d1-3f3b-4356-ff51-738d9cedac30"
      },
      "source": [
        "#table_neig = house_soup.find('table')\n",
        "\n",
        "#bairro = table_neig.findAll(\"<div class='table'> = $0\")\n",
        "\n",
        "#bairro\n"
      ],
      "execution_count": 35,
      "outputs": [
        {
          "output_type": "execute_result",
          "data": {
            "text/plain": [
              "[]"
            ]
          },
          "metadata": {},
          "execution_count": 35
        }
      ]
    },
    {
      "cell_type": "code",
      "metadata": {
        "id": "MsPCvQaTYKba"
      },
      "source": [
        "dfs = pd.read_html('https://www.agenteimovel.com.br/mercado-imobiliario/a-venda/sc/florianopolis/')"
      ],
      "execution_count": 48,
      "outputs": []
    },
    {
      "cell_type": "code",
      "metadata": {
        "colab": {
          "base_uri": "https://localhost:8080/",
          "height": 268
        },
        "id": "1bUUsyaiznVK",
        "outputId": "91083bea-f483-4fa3-d065-c2f8b83bec3d"
      },
      "source": [
        "tipo_imovel = dfs[0]\n",
        "tipo_imovel"
      ],
      "execution_count": 49,
      "outputs": [
        {
          "output_type": "execute_result",
          "data": {
            "text/html": [
              "<div>\n",
              "<style scoped>\n",
              "    .dataframe tbody tr th:only-of-type {\n",
              "        vertical-align: middle;\n",
              "    }\n",
              "\n",
              "    .dataframe tbody tr th {\n",
              "        vertical-align: top;\n",
              "    }\n",
              "\n",
              "    .dataframe thead th {\n",
              "        text-align: right;\n",
              "    }\n",
              "</style>\n",
              "<table border=\"1\" class=\"dataframe\">\n",
              "  <thead>\n",
              "    <tr style=\"text-align: right;\">\n",
              "      <th></th>\n",
              "      <th>N° quartos</th>\n",
              "      <th>N° de imóveis</th>\n",
              "      <th>Aug'2021</th>\n",
              "      <th>Anual</th>\n",
              "      <th>1 mês antes</th>\n",
              "      <th>3 meses antes</th>\n",
              "      <th>1 ano antes</th>\n",
              "    </tr>\n",
              "  </thead>\n",
              "  <tbody>\n",
              "    <tr>\n",
              "      <th>0</th>\n",
              "      <td>1</td>\n",
              "      <td>2.935</td>\n",
              "      <td>R$ 8.598</td>\n",
              "      <td>+17.42%</td>\n",
              "      <td>R$ 8.461</td>\n",
              "      <td>R$ 8.318</td>\n",
              "      <td>R$ 7.322</td>\n",
              "    </tr>\n",
              "    <tr>\n",
              "      <th>1</th>\n",
              "      <td>2</td>\n",
              "      <td>13.964</td>\n",
              "      <td>R$ 7.304</td>\n",
              "      <td>+19.55%</td>\n",
              "      <td>R$ 7.171</td>\n",
              "      <td>R$ 7.058</td>\n",
              "      <td>R$ 6.110</td>\n",
              "    </tr>\n",
              "    <tr>\n",
              "      <th>2</th>\n",
              "      <td>3</td>\n",
              "      <td>18.809</td>\n",
              "      <td>R$ 7.835</td>\n",
              "      <td>+17.59%</td>\n",
              "      <td>R$ 7.734</td>\n",
              "      <td>R$ 7.614</td>\n",
              "      <td>R$ 6.663</td>\n",
              "    </tr>\n",
              "    <tr>\n",
              "      <th>3</th>\n",
              "      <td>4</td>\n",
              "      <td>5.830</td>\n",
              "      <td>R$ 7.906</td>\n",
              "      <td>+14.75%</td>\n",
              "      <td>R$ 7.840</td>\n",
              "      <td>R$ 7.742</td>\n",
              "      <td>R$ 6.890</td>\n",
              "    </tr>\n",
              "    <tr>\n",
              "      <th>4</th>\n",
              "      <td>4+</td>\n",
              "      <td>2.712</td>\n",
              "      <td>R$ 7.335</td>\n",
              "      <td>+12.07%</td>\n",
              "      <td>R$ 7.278</td>\n",
              "      <td>R$ 7.223</td>\n",
              "      <td>R$ 6.545</td>\n",
              "    </tr>\n",
              "    <tr>\n",
              "      <th>5</th>\n",
              "      <td>Total</td>\n",
              "      <td>44.301</td>\n",
              "      <td>R$ 7.697</td>\n",
              "      <td>+17.60%</td>\n",
              "      <td>R$ 7.591</td>\n",
              "      <td>R$ 7.480</td>\n",
              "      <td>R$ 6.545</td>\n",
              "    </tr>\n",
              "  </tbody>\n",
              "</table>\n",
              "</div>"
            ],
            "text/plain": [
              "  N° quartos  N° de imóveis  Aug'2021  ... 1 mês antes 3 meses antes 1 ano antes\n",
              "0          1          2.935  R$ 8.598  ...    R$ 8.461      R$ 8.318    R$ 7.322\n",
              "1          2         13.964  R$ 7.304  ...    R$ 7.171      R$ 7.058    R$ 6.110\n",
              "2          3         18.809  R$ 7.835  ...    R$ 7.734      R$ 7.614    R$ 6.663\n",
              "3          4          5.830  R$ 7.906  ...    R$ 7.840      R$ 7.742    R$ 6.890\n",
              "4         4+          2.712  R$ 7.335  ...    R$ 7.278      R$ 7.223    R$ 6.545\n",
              "5      Total         44.301  R$ 7.697  ...    R$ 7.591      R$ 7.480    R$ 6.545\n",
              "\n",
              "[6 rows x 7 columns]"
            ]
          },
          "metadata": {},
          "execution_count": 49
        }
      ]
    },
    {
      "cell_type": "code",
      "metadata": {
        "colab": {
          "base_uri": "https://localhost:8080/",
          "height": 1000
        },
        "id": "fnpH2zP-wcZI",
        "outputId": "d32042a6-eccb-4eae-d816-9c7f130386a8"
      },
      "source": [
        "bairro = dfs[1]\n",
        "bairro"
      ],
      "execution_count": 50,
      "outputs": [
        {
          "output_type": "execute_result",
          "data": {
            "text/html": [
              "<div>\n",
              "<style scoped>\n",
              "    .dataframe tbody tr th:only-of-type {\n",
              "        vertical-align: middle;\n",
              "    }\n",
              "\n",
              "    .dataframe tbody tr th {\n",
              "        vertical-align: top;\n",
              "    }\n",
              "\n",
              "    .dataframe thead th {\n",
              "        text-align: right;\n",
              "    }\n",
              "</style>\n",
              "<table border=\"1\" class=\"dataframe\">\n",
              "  <thead>\n",
              "    <tr style=\"text-align: right;\">\n",
              "      <th></th>\n",
              "      <th>Bairro</th>\n",
              "      <th>Alteração Mensal</th>\n",
              "      <th>Preço/M²</th>\n",
              "      <th>Preço médio</th>\n",
              "    </tr>\n",
              "  </thead>\n",
              "  <tbody>\n",
              "    <tr>\n",
              "      <th>0</th>\n",
              "      <td>Agronômica</td>\n",
              "      <td>+0.88%</td>\n",
              "      <td>R$ 11.564</td>\n",
              "      <td>R$ 1.919.249</td>\n",
              "    </tr>\n",
              "    <tr>\n",
              "      <th>1</th>\n",
              "      <td>Jurerê Internacional</td>\n",
              "      <td>+1.79%</td>\n",
              "      <td>R$ 11.490</td>\n",
              "      <td>R$ 4.018.146</td>\n",
              "    </tr>\n",
              "    <tr>\n",
              "      <th>2</th>\n",
              "      <td>Jurerê</td>\n",
              "      <td>+1.38%</td>\n",
              "      <td>R$ 10.597</td>\n",
              "      <td>R$ 1.654.089</td>\n",
              "    </tr>\n",
              "    <tr>\n",
              "      <th>3</th>\n",
              "      <td>Centro</td>\n",
              "      <td>+1.04%</td>\n",
              "      <td>R$ 9.908</td>\n",
              "      <td>R$ 1.386.824</td>\n",
              "    </tr>\n",
              "    <tr>\n",
              "      <th>4</th>\n",
              "      <td>Praia Brava</td>\n",
              "      <td>+2.70%</td>\n",
              "      <td>R$ 9.626</td>\n",
              "      <td>R$ 1.932.722</td>\n",
              "    </tr>\n",
              "    <tr>\n",
              "      <th>5</th>\n",
              "      <td>Cacupé</td>\n",
              "      <td>+2.25%</td>\n",
              "      <td>R$ 9.502</td>\n",
              "      <td>R$ 4.359.080</td>\n",
              "    </tr>\n",
              "    <tr>\n",
              "      <th>6</th>\n",
              "      <td>João Paulo</td>\n",
              "      <td>+1.74%</td>\n",
              "      <td>R$ 8.664</td>\n",
              "      <td>R$ 1.996.573</td>\n",
              "    </tr>\n",
              "    <tr>\n",
              "      <th>7</th>\n",
              "      <td>Itacorubi</td>\n",
              "      <td>+1.07%</td>\n",
              "      <td>R$ 8.217</td>\n",
              "      <td>R$ 929.758</td>\n",
              "    </tr>\n",
              "    <tr>\n",
              "      <th>8</th>\n",
              "      <td>Campeche</td>\n",
              "      <td>+1.21%</td>\n",
              "      <td>R$ 8.073</td>\n",
              "      <td>R$ 1.264.142</td>\n",
              "    </tr>\n",
              "    <tr>\n",
              "      <th>9</th>\n",
              "      <td>Trindade</td>\n",
              "      <td>+0.95%</td>\n",
              "      <td>R$ 7.794</td>\n",
              "      <td>R$ 761.951</td>\n",
              "    </tr>\n",
              "    <tr>\n",
              "      <th>10</th>\n",
              "      <td>Córrego Grande</td>\n",
              "      <td>+0.55%</td>\n",
              "      <td>R$ 7.609</td>\n",
              "      <td>R$ 1.137.546</td>\n",
              "    </tr>\n",
              "    <tr>\n",
              "      <th>11</th>\n",
              "      <td>Lagoa da Conceição</td>\n",
              "      <td>+0.51%</td>\n",
              "      <td>R$ 7.401</td>\n",
              "      <td>R$ 2.007.789</td>\n",
              "    </tr>\n",
              "    <tr>\n",
              "      <th>12</th>\n",
              "      <td>Barra da Lagoa</td>\n",
              "      <td>+1.58%</td>\n",
              "      <td>R$ 7.161</td>\n",
              "      <td>R$ 1.500.899</td>\n",
              "    </tr>\n",
              "    <tr>\n",
              "      <th>13</th>\n",
              "      <td>Canto</td>\n",
              "      <td>+2.25%</td>\n",
              "      <td>R$ 7.122</td>\n",
              "      <td>R$ 744.697</td>\n",
              "    </tr>\n",
              "    <tr>\n",
              "      <th>14</th>\n",
              "      <td>Canasvieiras</td>\n",
              "      <td>+1.14%</td>\n",
              "      <td>R$ 7.095</td>\n",
              "      <td>R$ 854.888</td>\n",
              "    </tr>\n",
              "    <tr>\n",
              "      <th>15</th>\n",
              "      <td>Saco Grande</td>\n",
              "      <td>+0.91%</td>\n",
              "      <td>R$ 7.002</td>\n",
              "      <td>R$ 895.986</td>\n",
              "    </tr>\n",
              "    <tr>\n",
              "      <th>16</th>\n",
              "      <td>Santa Mônica</td>\n",
              "      <td>-0.05%</td>\n",
              "      <td>R$ 6.986</td>\n",
              "      <td>R$ 2.160.534</td>\n",
              "    </tr>\n",
              "    <tr>\n",
              "      <th>17</th>\n",
              "      <td>Balneário</td>\n",
              "      <td>+1.68%</td>\n",
              "      <td>R$ 6.940</td>\n",
              "      <td>R$ 839.043</td>\n",
              "    </tr>\n",
              "    <tr>\n",
              "      <th>18</th>\n",
              "      <td>Santo Antônio de Lisboa</td>\n",
              "      <td>+4.79%</td>\n",
              "      <td>R$ 6.916</td>\n",
              "      <td>R$ 1.650.624</td>\n",
              "    </tr>\n",
              "    <tr>\n",
              "      <th>19</th>\n",
              "      <td>Rio Tavares</td>\n",
              "      <td>+1.53%</td>\n",
              "      <td>R$ 6.892</td>\n",
              "      <td>R$ 1.482.738</td>\n",
              "    </tr>\n",
              "    <tr>\n",
              "      <th>20</th>\n",
              "      <td>Cachoeira do Bom Jesus</td>\n",
              "      <td>+2.18%</td>\n",
              "      <td>R$ 6.711</td>\n",
              "      <td>R$ 1.062.249</td>\n",
              "    </tr>\n",
              "    <tr>\n",
              "      <th>21</th>\n",
              "      <td>Pantanal</td>\n",
              "      <td>+0.78%</td>\n",
              "      <td>R$ 6.573</td>\n",
              "      <td>R$ 775.275</td>\n",
              "    </tr>\n",
              "    <tr>\n",
              "      <th>22</th>\n",
              "      <td>Coqueiros</td>\n",
              "      <td>+1.06%</td>\n",
              "      <td>R$ 6.568</td>\n",
              "      <td>R$ 784.370</td>\n",
              "    </tr>\n",
              "    <tr>\n",
              "      <th>23</th>\n",
              "      <td>Abraão</td>\n",
              "      <td>+1.72%</td>\n",
              "      <td>R$ 6.381</td>\n",
              "      <td>R$ 647.139</td>\n",
              "    </tr>\n",
              "    <tr>\n",
              "      <th>24</th>\n",
              "      <td>Estreito</td>\n",
              "      <td>+1.40%</td>\n",
              "      <td>R$ 6.213</td>\n",
              "      <td>R$ 826.739</td>\n",
              "    </tr>\n",
              "    <tr>\n",
              "      <th>25</th>\n",
              "      <td>Saco dos Limões</td>\n",
              "      <td>+0.30%</td>\n",
              "      <td>R$ 6.079</td>\n",
              "      <td>R$ 777.773</td>\n",
              "    </tr>\n",
              "    <tr>\n",
              "      <th>26</th>\n",
              "      <td>Jardim Atlântico</td>\n",
              "      <td>+2.22%</td>\n",
              "      <td>R$ 5.808</td>\n",
              "      <td>R$ 696.621</td>\n",
              "    </tr>\n",
              "    <tr>\n",
              "      <th>27</th>\n",
              "      <td>Ribeirão da Ilha</td>\n",
              "      <td>-0.10%</td>\n",
              "      <td>R$ 5.554</td>\n",
              "      <td>R$ 1.121.017</td>\n",
              "    </tr>\n",
              "    <tr>\n",
              "      <th>28</th>\n",
              "      <td>Capoeiras</td>\n",
              "      <td>+1.27%</td>\n",
              "      <td>R$ 5.481</td>\n",
              "      <td>R$ 546.249</td>\n",
              "    </tr>\n",
              "    <tr>\n",
              "      <th>29</th>\n",
              "      <td>Ingleses do Rio Vermelho</td>\n",
              "      <td>+1.38%</td>\n",
              "      <td>R$ 5.448</td>\n",
              "      <td>R$ 619.131</td>\n",
              "    </tr>\n",
              "    <tr>\n",
              "      <th>30</th>\n",
              "      <td>Itaguaçu</td>\n",
              "      <td>+1.33%</td>\n",
              "      <td>R$ 5.421</td>\n",
              "      <td>R$ 1.265.505</td>\n",
              "    </tr>\n",
              "    <tr>\n",
              "      <th>31</th>\n",
              "      <td>Carianos</td>\n",
              "      <td>+1.14%</td>\n",
              "      <td>R$ 4.353</td>\n",
              "      <td>R$ 779.587</td>\n",
              "    </tr>\n",
              "    <tr>\n",
              "      <th>32</th>\n",
              "      <td>São João do Rio Vermelho</td>\n",
              "      <td>+2.54%</td>\n",
              "      <td>R$ 3.296</td>\n",
              "      <td>R$ 498.901</td>\n",
              "    </tr>\n",
              "  </tbody>\n",
              "</table>\n",
              "</div>"
            ],
            "text/plain": [
              "                      Bairro Alteração Mensal   Preço/M²   Preço médio\n",
              "0                 Agronômica           +0.88%  R$ 11.564  R$ 1.919.249\n",
              "1       Jurerê Internacional           +1.79%  R$ 11.490  R$ 4.018.146\n",
              "2                     Jurerê           +1.38%  R$ 10.597  R$ 1.654.089\n",
              "3                     Centro           +1.04%   R$ 9.908  R$ 1.386.824\n",
              "4                Praia Brava           +2.70%   R$ 9.626  R$ 1.932.722\n",
              "5                     Cacupé           +2.25%   R$ 9.502  R$ 4.359.080\n",
              "6                 João Paulo           +1.74%   R$ 8.664  R$ 1.996.573\n",
              "7                  Itacorubi           +1.07%   R$ 8.217    R$ 929.758\n",
              "8                   Campeche           +1.21%   R$ 8.073  R$ 1.264.142\n",
              "9                   Trindade           +0.95%   R$ 7.794    R$ 761.951\n",
              "10            Córrego Grande           +0.55%   R$ 7.609  R$ 1.137.546\n",
              "11        Lagoa da Conceição           +0.51%   R$ 7.401  R$ 2.007.789\n",
              "12            Barra da Lagoa           +1.58%   R$ 7.161  R$ 1.500.899\n",
              "13                     Canto           +2.25%   R$ 7.122    R$ 744.697\n",
              "14              Canasvieiras           +1.14%   R$ 7.095    R$ 854.888\n",
              "15               Saco Grande           +0.91%   R$ 7.002    R$ 895.986\n",
              "16              Santa Mônica           -0.05%   R$ 6.986  R$ 2.160.534\n",
              "17                 Balneário           +1.68%   R$ 6.940    R$ 839.043\n",
              "18   Santo Antônio de Lisboa           +4.79%   R$ 6.916  R$ 1.650.624\n",
              "19               Rio Tavares           +1.53%   R$ 6.892  R$ 1.482.738\n",
              "20    Cachoeira do Bom Jesus           +2.18%   R$ 6.711  R$ 1.062.249\n",
              "21                  Pantanal           +0.78%   R$ 6.573    R$ 775.275\n",
              "22                 Coqueiros           +1.06%   R$ 6.568    R$ 784.370\n",
              "23                    Abraão           +1.72%   R$ 6.381    R$ 647.139\n",
              "24                  Estreito           +1.40%   R$ 6.213    R$ 826.739\n",
              "25           Saco dos Limões           +0.30%   R$ 6.079    R$ 777.773\n",
              "26          Jardim Atlântico           +2.22%   R$ 5.808    R$ 696.621\n",
              "27          Ribeirão da Ilha           -0.10%   R$ 5.554  R$ 1.121.017\n",
              "28                 Capoeiras           +1.27%   R$ 5.481    R$ 546.249\n",
              "29  Ingleses do Rio Vermelho           +1.38%   R$ 5.448    R$ 619.131\n",
              "30                  Itaguaçu           +1.33%   R$ 5.421  R$ 1.265.505\n",
              "31                  Carianos           +1.14%   R$ 4.353    R$ 779.587\n",
              "32  São João do Rio Vermelho           +2.54%   R$ 3.296    R$ 498.901"
            ]
          },
          "metadata": {},
          "execution_count": 50
        }
      ]
    }
  ]
}