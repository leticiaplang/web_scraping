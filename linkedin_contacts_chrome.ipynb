{
 "cells": [
  {
   "cell_type": "markdown",
   "id": "3e1d5fdd",
   "metadata": {},
   "source": [
    "## Instalações e Importações"
   ]
  },
  {
   "cell_type": "code",
   "execution_count": 1,
   "id": "e3c859d3",
   "metadata": {},
   "outputs": [
    {
     "name": "stdout",
     "output_type": "stream",
     "text": [
      "Requirement already satisfied: selenium in /Applications/anaconda3/lib/python3.8/site-packages (3.141.0)\r\n",
      "Requirement already satisfied: urllib3 in /Applications/anaconda3/lib/python3.8/site-packages (from selenium) (1.26.4)\r\n"
     ]
    }
   ],
   "source": [
    "## Instalação Selenium\n",
    "!pip install selenium"
   ]
  },
  {
   "cell_type": "code",
   "execution_count": 2,
   "id": "bcfbe4b2",
   "metadata": {},
   "outputs": [],
   "source": [
    "## import libs\n",
    "import time\n",
    "from selenium import webdriver\n",
    "from selenium.webdriver.chrome.options import Options\n",
    "import pandas as pd"
   ]
  },
  {
   "cell_type": "markdown",
   "id": "2fcd2ddc",
   "metadata": {},
   "source": [
    "## Denifindo Browser, URL, Login e Senha"
   ]
  },
  {
   "cell_type": "code",
   "execution_count": 3,
   "id": "6dd68a4c",
   "metadata": {},
   "outputs": [],
   "source": [
    "## Definição de Janela Desktop\n",
    "chrome_options = Options()\n",
    "chrome_options.add_argument(\"--incognito\")\n",
    "chrome_options.add_argument(\"--window-size=1920x1080\")"
   ]
  },
  {
   "cell_type": "code",
   "execution_count": 4,
   "id": "b84ca8be",
   "metadata": {},
   "outputs": [
    {
     "name": "stderr",
     "output_type": "stream",
     "text": [
      "<ipython-input-4-51c38aefe83d>:6: DeprecationWarning: use options instead of chrome_options\n",
      "  driver = webdriver.Chrome(chrome_options=chrome_options)\n"
     ]
    }
   ],
   "source": [
    "## Necessário realizar download do webdriver em: \n",
    "# https://www.selenium.dev/pt-br/documentation/getting_started/installing_browser_drivers/\n",
    "\n",
    "## Abrir o browser\n",
    "\n",
    "driver = webdriver.Chrome(chrome_options=chrome_options)"
   ]
  },
  {
   "cell_type": "code",
   "execution_count": 38,
   "id": "dd43141c",
   "metadata": {},
   "outputs": [],
   "source": [
    "## Definindo URL\n",
    "url = \"https://www.linkedin.com/login/pt?fromSignIn=true&trk=guest_homepage-basic_nav-header-signin\"\n",
    "driver.get(url)\n",
    "time.sleep(2)"
   ]
  },
  {
   "cell_type": "code",
   "execution_count": 39,
   "id": "27bd9067",
   "metadata": {},
   "outputs": [],
   "source": [
    "## Dados login\n",
    "login = ''\n",
    "password =''"
   ]
  },
  {
   "cell_type": "markdown",
   "id": "08400587",
   "metadata": {},
   "source": [
    "## Navegando pela Web "
   ]
  },
  {
   "cell_type": "code",
   "execution_count": 40,
   "id": "11f37bf1",
   "metadata": {
    "scrolled": true
   },
   "outputs": [],
   "source": [
    "## Busca pelo botão de login\n",
    "input_search = driver.find_element_by_xpath('/html/body/div/main/div[2]/div[1]/form/div[1]/input')\n",
    "\n",
    "# Inserindo dados de login\n",
    "input_search.send_keys(login)"
   ]
  },
  {
   "cell_type": "code",
   "execution_count": 43,
   "id": "7b105f25",
   "metadata": {},
   "outputs": [],
   "source": [
    "## Busca pelo botão de senha\n",
    "input_search = driver.find_element_by_xpath('/html/body/div/main/div[2]/div[1]/form/div[2]/input')\n",
    "\n",
    "# Inserindo dados de senha\n",
    "input_search.send_keys(password)"
   ]
  },
  {
   "cell_type": "code",
   "execution_count": 45,
   "id": "743d4aa9",
   "metadata": {},
   "outputs": [],
   "source": [
    "## Busca pelo botão de acesso\n",
    "singin = driver.find_element_by_xpath('/html/body/div/main/div[2]/div[1]/form/div[3]/button')\n",
    "\n",
    "# Clicando no botão\n",
    "singin.click()"
   ]
  },
  {
   "cell_type": "code",
   "execution_count": 47,
   "id": "eb557e0e",
   "metadata": {},
   "outputs": [],
   "source": [
    "# tempo espera para carregamento da página\n",
    "time.sleep(2)"
   ]
  },
  {
   "cell_type": "code",
   "execution_count": 48,
   "id": "76ee97e4",
   "metadata": {},
   "outputs": [],
   "source": [
    "## Busca pelo botão de minha rede\n",
    "my_net = driver.find_element_by_xpath('//*[@id=\"ember21\"]/span') \n",
    "\n",
    "# Clicando no botão\n",
    "my_net.click()\n",
    "\n",
    "# Tempo de espera para carregamento do botão\n",
    "time.sleep(2)"
   ]
  },
  {
   "cell_type": "code",
   "execution_count": 51,
   "id": "919b8df0",
   "metadata": {},
   "outputs": [],
   "source": [
    "## Busca pelo botão de conexões\n",
    "conex = driver.find_element_by_xpath('/html/body/div[5]/div[3]/div/div/div/div/div[2]/div/div/div/div/div/div/section[1]/div/div[1]/a/div/div[1]')\n",
    "\n",
    "# clicando no botão\n",
    "conex.click()"
   ]
  },
  {
   "cell_type": "code",
   "execution_count": 55,
   "id": "7c7dce18",
   "metadata": {},
   "outputs": [],
   "source": [
    "## Rolagem da página \n",
    "\n",
    "# Rolagem até o último usuário de atualizei\n",
    "last_height = driver.find_element_by_xpath('/html/body/div[5]/div[3]/div/div/div/div/div[2]/div/div/main/div/section/div[2]/div[1]/ul/li[20]')\n",
    "\n",
    "while True:\n",
    "    # Scroll down to bottom\n",
    "    driver.execute_script(\"window.scrollTo(0, document.body.scrollHeight);\")\n",
    "\n",
    "    # Wait to load page\n",
    "    time.sleep(1)\n",
    "\n",
    "    # Calculate new scroll height and compare with last scroll height\n",
    "    new_height = driver.execute_script(\"return document.body.scrollHeight\")\n",
    "    if new_height == last_height:\n",
    "        break\n",
    "    last_height = new_height"
   ]
  },
  {
   "cell_type": "markdown",
   "id": "ad8d6d42",
   "metadata": {},
   "source": [
    "## Realizando a coleta dos dados "
   ]
  },
  {
   "cell_type": "code",
   "execution_count": null,
   "id": "83b21ab9",
   "metadata": {},
   "outputs": [],
   "source": [
    "## Definindo os dados do container em que realizarei a coleta de dados\n",
    "people = driver.find_element_by_xpath('//*[@id=\"ember911\"]/div[2]')"
   ]
  },
  {
   "cell_type": "code",
   "execution_count": 56,
   "id": "d63d663a",
   "metadata": {},
   "outputs": [],
   "source": [
    "## Buscando pelos nomes das pessoas\n",
    "names = people.find_elements_by_css_selector('.mn-connection-card__name')\n",
    "\n",
    "# Coletando os dados e transformando em lista\n",
    "name = [n.text for n in names]"
   ]
  },
  {
   "cell_type": "code",
   "execution_count": 58,
   "id": "9806322b",
   "metadata": {},
   "outputs": [],
   "source": [
    "## Buscando pelos cargos das pessoas\n",
    "cargos = people.find_elements_by_css_selector('.mn-connection-card__occupation')\n",
    "\n",
    "# Coletando os dados e transformando em lista\n",
    "cargo = [c.text for c in cargos]"
   ]
  },
  {
   "cell_type": "code",
   "execution_count": 60,
   "id": "7419f668",
   "metadata": {},
   "outputs": [],
   "source": [
    "## Buscando pelo período que foi adicionada cada pessoa\n",
    "horarios = people.find_elements_by_css_selector('.time-badge')\n",
    "\n",
    "# Coletando os dados e transformando em lista\n",
    "horario = [h.text for h in horarios]"
   ]
  },
  {
   "cell_type": "code",
   "execution_count": null,
   "id": "120e6cc2",
   "metadata": {},
   "outputs": [],
   "source": [
    "## finalizando conexão\n",
    "driver.quit()"
   ]
  },
  {
   "cell_type": "markdown",
   "id": "c138aa75",
   "metadata": {},
   "source": [
    "## Definido dataframe e Exportando em CSV"
   ]
  },
  {
   "cell_type": "code",
   "execution_count": 63,
   "id": "ffaa1ecc",
   "metadata": {},
   "outputs": [],
   "source": [
    "## Definindo estrutura do DF\n",
    "csv = pd.DataFrame({'nome':name, 'cargo':cargo, 'horario':horario})"
   ]
  },
  {
   "cell_type": "code",
   "execution_count": 64,
   "id": "dccd9233",
   "metadata": {},
   "outputs": [],
   "source": [
    "## Exportando em CSV\n",
    "csv.to_csv('linkedin.csv')"
   ]
  }
 ],
 "metadata": {
  "kernelspec": {
   "display_name": "Python 3",
   "language": "python",
   "name": "python3"
  },
  "language_info": {
   "codemirror_mode": {
    "name": "ipython",
    "version": 3
   },
   "file_extension": ".py",
   "mimetype": "text/x-python",
   "name": "python",
   "nbconvert_exporter": "python",
   "pygments_lexer": "ipython3",
   "version": "3.8.8"
  }
 },
 "nbformat": 4,
 "nbformat_minor": 5
}
